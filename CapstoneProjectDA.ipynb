{
 "cells": [
  {
   "cell_type": "markdown",
   "id": "1fcb1d2d-1f21-48c2-9350-6b8137467597",
   "metadata": {
    "toc-hr-collapsed": true
   },
   "source": [
    "<h1>Capstone Project for Data Analysis</h1>"
   ]
  },
  {
   "cell_type": "markdown",
   "id": "7aed5faa-2b05-4c14-aa84-0eae7a1b9e3c",
   "metadata": {},
   "source": [
    "<h2>Group 2:</h2>\n",
    "\n",
    "1. 2220401 - ADAM, Mukharil Bachtiar\n",
    "2. 2210059 - KUBOTA, Natsumi\n",
    "3. 2210420 - TANG, Wenhao"
   ]
  },
  {
   "cell_type": "markdown",
   "id": "c525431d-0c3b-461f-b3e5-58547bd387d2",
   "metadata": {},
   "source": [
    "<h1>Data Acquisition</h1>"
   ]
  },
  {
   "cell_type": "markdown",
   "id": "258ef8fa-b816-45c7-9add-fec884fa3508",
   "metadata": {},
   "source": [
    "Importing data from twitter with TweetID. TweetID was captured from https://github.com/echen102/ukraine-russia.\n",
    "\n",
    "1. Import some library"
   ]
  },
  {
   "cell_type": "code",
   "execution_count": 15,
   "id": "356f4612-d756-40d3-b693-4982f21edd70",
   "metadata": {},
   "outputs": [],
   "source": [
    "from os import listdir\n",
    "from os.path import isfile, join\n",
    "import tweepy\n",
    "import pandas as pd\n",
    "from pathlib import Path\n",
    "import re"
   ]
  },
  {
   "cell_type": "markdown",
   "id": "a13c7335-3a61-4d7c-a83d-6831c567b830",
   "metadata": {},
   "source": [
    "2. Declare variables for Tweepy"
   ]
  },
  {
   "cell_type": "code",
   "execution_count": 2,
   "id": "65dcca4b-ebe7-4aa2-b14d-cc26622d12d3",
   "metadata": {},
   "outputs": [],
   "source": [
    "BEARER_TOKEN = \"AAAAAAAAAAAAAAAAAAAAADRVaQEAAAAAmrpIV%2FQwyFYFfpG0X6JGda4GFbY%3DfpSXBITrmXGMtFXe4QTuzoLwDsWJtIGyyhQWO94EyrVsrxdLuS\"\n",
    "client = tweepy.Client(bearer_token=BEARER_TOKEN)"
   ]
  },
  {
   "cell_type": "markdown",
   "id": "5e7e8f1f-d071-474e-bf15-ac8587b2c396",
   "metadata": {},
   "source": [
    "3. Read the TweetID from https://github.com/echen102/ukraine-russia. and do requests to Twitter. The data will be contained the TweetID and the Tweet and it will be saved on the CSV files."
   ]
  },
  {
   "cell_type": "code",
   "execution_count": 9,
   "id": "d5ea917f-45db-4eba-a109-6f588322582d",
   "metadata": {},
   "outputs": [
    {
     "data": {
      "text/plain": [
       "65577"
      ]
     },
     "execution_count": 9,
     "metadata": {},
     "output_type": "execute_result"
    }
   ],
   "source": [
    "onlyfiles = [f for f in listdir(\"./\") if isfile(join(\"./\", f))]\n",
    "\n",
    "tweet_ids = []\n",
    "\n",
    "# change the path of file to read other file\n",
    "with open(\"./TweetData/2022-10/ukraine_russia-2022-10-01-00.txt\") as f:\n",
    "  ids = f.readlines()\n",
    "  for id in ids:\n",
    "    tweet_ids.append(id.strip())\n",
    "    \n",
    "len(tweet_ids)"
   ]
  },
  {
   "cell_type": "code",
   "execution_count": 10,
   "id": "32bdd228-9551-45d4-9c81-f93953fe6629",
   "metadata": {},
   "outputs": [],
   "source": [
    "# a method for dividing n TweetIDs in the file into 100 tweetIDs @ 1 Chunk\n",
    "def chunks(lst, n):\n",
    "    for i in range(0, len(lst), n):\n",
    "        yield lst[i:i + n]\n",
    "        \n",
    "parts = list(chunks(tweet_ids, 100))"
   ]
  },
  {
   "cell_type": "code",
   "execution_count": 15,
   "id": "03f9b6ac-54cd-4ce7-a017-bf19658f64a7",
   "metadata": {},
   "outputs": [],
   "source": [
    "tweets_list = []\n",
    "\n",
    "for i, ids in enumerate(parts):\n",
    "    # Limit of repetition (the limitation comes from Tweepy)\n",
    "    # 1. if i <= 299: for 1 to 30000 TweetIDs Request\n",
    "    # 2. if i > 299 and i <= 598: for 30001 to 60000 TweetIDs Request\n",
    "    # 3. if i > 598: for 60001 to 90000 TweetIDs Request\n",
    "    \n",
    "    if i <= 299:\n",
    "        temp= []\n",
    "        tweets = client.get_tweets(ids=ids,)\n",
    "        temp= []\n",
    "        for tweet in tweets.data:\n",
    "            tweet_response = {\n",
    "                'textID': str(tweet.id),\n",
    "                'tweet_text': tweet.text,\n",
    "            }\n",
    "            temp.append(tweet_response)\n",
    "            tweets_list = tweets_list + temp\n",
    "\n",
    "tweets_df = pd.DataFrame(tweets_list)\n",
    "tweets_df = tweets_df.drop_duplicates(ignore_index=True)\n",
    "\n",
    "# Change n on str(n) so that the previous CSV file is not be replaced with the new one\n",
    "# also replace the date on the name of CSV file\n",
    "tweets_df.to_csv(\"./csv/\" + str(1) + '-2022-10-01-01.csv')"
   ]
  },
  {
   "cell_type": "markdown",
   "id": "47bfa907-5467-4627-8e0e-734c3ad35997",
   "metadata": {},
   "source": [
    "4. The methods will produce several CSV files into one folder called csv. So we combine all of files into one big CSV files."
   ]
  },
  {
   "cell_type": "code",
   "execution_count": 3,
   "id": "b01cea65-9df0-4676-a39f-fa7a8177efd3",
   "metadata": {},
   "outputs": [],
   "source": [
    "path = r'./csv/'\n",
    "files = Path(path).glob('*.csv')\n",
    "\n",
    "df = pd.concat((pd.read_csv(f, index_col=0, encoding=\"ISO-8859-1\") for f in files), ignore_index=True)"
   ]
  },
  {
   "cell_type": "code",
   "execution_count": 8,
   "id": "0abc4762-7ad0-4224-8435-12b935615ca4",
   "metadata": {},
   "outputs": [
    {
     "data": {
      "text/html": [
       "<div>\n",
       "<style scoped>\n",
       "    .dataframe tbody tr th:only-of-type {\n",
       "        vertical-align: middle;\n",
       "    }\n",
       "\n",
       "    .dataframe tbody tr th {\n",
       "        vertical-align: top;\n",
       "    }\n",
       "\n",
       "    .dataframe thead th {\n",
       "        text-align: right;\n",
       "    }\n",
       "</style>\n",
       "<table border=\"1\" class=\"dataframe\">\n",
       "  <thead>\n",
       "    <tr style=\"text-align: right;\">\n",
       "      <th></th>\n",
       "      <th>textID</th>\n",
       "      <th>tweet_text</th>\n",
       "    </tr>\n",
       "  </thead>\n",
       "  <tbody>\n",
       "    <tr>\n",
       "      <th>0</th>\n",
       "      <td>1576180101774905345</td>\n",
       "      <td>RT @TibetUygurClub: ä¸­é²ã®è»äºåãªãç±...</td>\n",
       "    </tr>\n",
       "    <tr>\n",
       "      <th>1</th>\n",
       "      <td>1576180102341459968</td>\n",
       "      <td>RT @georgian_legion: Non-negotiable.  ðºð¦...</td>\n",
       "    </tr>\n",
       "    <tr>\n",
       "      <th>2</th>\n",
       "      <td>1576180102253383680</td>\n",
       "      <td>@Charion2 @yazzno @Tryzub2022 @sumlenny I wasn...</td>\n",
       "    </tr>\n",
       "    <tr>\n",
       "      <th>3</th>\n",
       "      <td>1576180102223695872</td>\n",
       "      <td>ZÅoÅ¼yÅem wniosek o przyjÄcie mnie do MiÄd...</td>\n",
       "    </tr>\n",
       "    <tr>\n",
       "      <th>4</th>\n",
       "      <td>1576180102475698176</td>\n",
       "      <td>RT @WarTiger007: ð¨ð¨  ðºð¦å°±å¨ï¼ä¹...</td>\n",
       "    </tr>\n",
       "  </tbody>\n",
       "</table>\n",
       "</div>"
      ],
      "text/plain": [
       "                textID                                         tweet_text\n",
       "0  1576180101774905345  RT @TibetUygurClub: ä¸­é²ã®è»äºåãªãç±...\n",
       "1  1576180102341459968  RT @georgian_legion: Non-negotiable.  ðºð¦...\n",
       "2  1576180102253383680  @Charion2 @yazzno @Tryzub2022 @sumlenny I wasn...\n",
       "3  1576180102223695872  ZÅoÅ¼yÅem wniosek o przyjÄcie mnie do MiÄd...\n",
       "4  1576180102475698176  RT @WarTiger007: ð¨ð¨  ðºð¦å°±å¨ï¼ä¹..."
      ]
     },
     "metadata": {},
     "output_type": "display_data"
    }
   ],
   "source": [
    "display(df.head())"
   ]
  },
  {
   "cell_type": "code",
   "execution_count": 10,
   "id": "865d70e7-ef25-488a-af25-047dd37e675f",
   "metadata": {},
   "outputs": [
    {
     "data": {
      "text/html": [
       "<div>\n",
       "<style scoped>\n",
       "    .dataframe tbody tr th:only-of-type {\n",
       "        vertical-align: middle;\n",
       "    }\n",
       "\n",
       "    .dataframe tbody tr th {\n",
       "        vertical-align: top;\n",
       "    }\n",
       "\n",
       "    .dataframe thead th {\n",
       "        text-align: right;\n",
       "    }\n",
       "</style>\n",
       "<table border=\"1\" class=\"dataframe\">\n",
       "  <thead>\n",
       "    <tr style=\"text-align: right;\">\n",
       "      <th></th>\n",
       "      <th>textID</th>\n",
       "      <th>tweet_text</th>\n",
       "    </tr>\n",
       "  </thead>\n",
       "  <tbody>\n",
       "    <tr>\n",
       "      <th>0</th>\n",
       "      <td>1576180101774905345</td>\n",
       "      <td>RT @TibetUygurClub: ä¸­é²ã®è»äºåãªãç±...</td>\n",
       "    </tr>\n",
       "    <tr>\n",
       "      <th>1</th>\n",
       "      <td>1576180102341459968</td>\n",
       "      <td>RT @georgian_legion: Non-negotiable.  ðºð¦...</td>\n",
       "    </tr>\n",
       "    <tr>\n",
       "      <th>2</th>\n",
       "      <td>1576180102253383680</td>\n",
       "      <td>@Charion2 @yazzno @Tryzub2022 @sumlenny I wasn...</td>\n",
       "    </tr>\n",
       "    <tr>\n",
       "      <th>3</th>\n",
       "      <td>1576180102223695872</td>\n",
       "      <td>ZÅoÅ¼yÅem wniosek o przyjÄcie mnie do MiÄd...</td>\n",
       "    </tr>\n",
       "    <tr>\n",
       "      <th>4</th>\n",
       "      <td>1576180102475698176</td>\n",
       "      <td>RT @WarTiger007: ð¨ð¨  ðºð¦å°±å¨ï¼ä¹...</td>\n",
       "    </tr>\n",
       "  </tbody>\n",
       "</table>\n",
       "</div>"
      ],
      "text/plain": [
       "                textID                                         tweet_text\n",
       "0  1576180101774905345  RT @TibetUygurClub: ä¸­é²ã®è»äºåãªãç±...\n",
       "1  1576180102341459968  RT @georgian_legion: Non-negotiable.  ðºð¦...\n",
       "2  1576180102253383680  @Charion2 @yazzno @Tryzub2022 @sumlenny I wasn...\n",
       "3  1576180102223695872  ZÅoÅ¼yÅem wniosek o przyjÄcie mnie do MiÄd...\n",
       "4  1576180102475698176  RT @WarTiger007: ð¨ð¨  ðºð¦å°±å¨ï¼ä¹..."
      ]
     },
     "metadata": {},
     "output_type": "display_data"
    },
    {
     "name": "stdout",
     "output_type": "stream",
     "text": [
      "Length of data: {} 124813\n"
     ]
    }
   ],
   "source": [
    "# Delete series with \"Unnamed\" name\n",
    "df = df.loc[:, ~df.columns.str.contains('^Unnamed')]\n",
    "display(df.head())\n",
    "print(\"Length of data: {}\",format(len(df)))"
   ]
  },
  {
   "cell_type": "code",
   "execution_count": 14,
   "id": "5933709e",
   "metadata": {},
   "outputs": [
    {
     "data": {
      "text/html": [
       "<div>\n",
       "<style scoped>\n",
       "    .dataframe tbody tr th:only-of-type {\n",
       "        vertical-align: middle;\n",
       "    }\n",
       "\n",
       "    .dataframe tbody tr th {\n",
       "        vertical-align: top;\n",
       "    }\n",
       "\n",
       "    .dataframe thead th {\n",
       "        text-align: right;\n",
       "    }\n",
       "</style>\n",
       "<table border=\"1\" class=\"dataframe\">\n",
       "  <thead>\n",
       "    <tr style=\"text-align: right;\">\n",
       "      <th></th>\n",
       "      <th>textID</th>\n",
       "      <th>tweet_text</th>\n",
       "    </tr>\n",
       "  </thead>\n",
       "  <tbody>\n",
       "    <tr>\n",
       "      <th>0</th>\n",
       "      <td>1576180101774905345</td>\n",
       "      <td>RT @TibetUygurClub: ä¸­é²ã®è»äºåãªãç±...</td>\n",
       "    </tr>\n",
       "    <tr>\n",
       "      <th>1</th>\n",
       "      <td>1576180102341459968</td>\n",
       "      <td>RT @georgian_legion: Non-negotiable.  ðºð¦...</td>\n",
       "    </tr>\n",
       "    <tr>\n",
       "      <th>2</th>\n",
       "      <td>1576180102253383680</td>\n",
       "      <td>@Charion2 @yazzno @Tryzub2022 @sumlenny I wasn...</td>\n",
       "    </tr>\n",
       "    <tr>\n",
       "      <th>3</th>\n",
       "      <td>1576180102223695872</td>\n",
       "      <td>ZÅoÅ¼yÅem wniosek o przyjÄcie mnie do MiÄd...</td>\n",
       "    </tr>\n",
       "    <tr>\n",
       "      <th>4</th>\n",
       "      <td>1576180102475698176</td>\n",
       "      <td>RT @WarTiger007: ð¨ð¨  ðºð¦å°±å¨ï¼ä¹...</td>\n",
       "    </tr>\n",
       "  </tbody>\n",
       "</table>\n",
       "</div>"
      ],
      "text/plain": [
       "                textID                                         tweet_text\n",
       "0  1576180101774905345  RT @TibetUygurClub: ä¸­é²ã®è»äºåãªãç±...\n",
       "1  1576180102341459968  RT @georgian_legion: Non-negotiable.  ðºð¦...\n",
       "2  1576180102253383680  @Charion2 @yazzno @Tryzub2022 @sumlenny I wasn...\n",
       "3  1576180102223695872  ZÅoÅ¼yÅem wniosek o przyjÄcie mnie do MiÄd...\n",
       "4  1576180102475698176  RT @WarTiger007: ð¨ð¨  ðºð¦å°±å¨ï¼ä¹..."
      ]
     },
     "metadata": {},
     "output_type": "display_data"
    },
    {
     "name": "stdout",
     "output_type": "stream",
     "text": [
      "Length of data: {} 124813\n"
     ]
    }
   ],
   "source": [
    "# output one big csv\n",
    "df.to_csv(\"./combined/result.csv\")"
   ]
  },
  {
   "cell_type": "markdown",
   "id": "2f636a21",
   "metadata": {},
   "source": [
    "# Data Understanding"
   ]
  },
  {
   "cell_type": "markdown",
   "id": "574bc6c4",
   "metadata": {},
   "source": [
    "After getting the data from Twitter about the Ukraine war, we analyze the data to know about the overview of data."
   ]
  }
 ],
 "metadata": {
  "kernelspec": {
   "display_name": "Python 3.9.6 64-bit",
   "language": "python",
   "name": "python3"
  },
  "language_info": {
   "codemirror_mode": {
    "name": "ipython",
    "version": 3
   },
   "file_extension": ".py",
   "mimetype": "text/x-python",
   "name": "python",
   "nbconvert_exporter": "python",
   "pygments_lexer": "ipython3",
   "version": "3.9.6"
  },
  "vscode": {
   "interpreter": {
    "hash": "31f2aee4e71d21fbe5cf8b01ff0e069b9275f58929596ceb00d14d90e3e16cd6"
   }
  }
 },
 "nbformat": 4,
 "nbformat_minor": 5
}
